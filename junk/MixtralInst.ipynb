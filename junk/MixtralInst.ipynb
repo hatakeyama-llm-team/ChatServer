{
 "cells": [
  {
   "cell_type": "code",
   "execution_count": 1,
   "metadata": {},
   "outputs": [
    {
     "name": "stderr",
     "output_type": "stream",
     "text": [
      "/home/hatakeyama/miniconda3/envs/llmeval/lib/python3.11/site-packages/tqdm/auto.py:21: TqdmWarning: IProgress not found. Please update jupyter and ipywidgets. See https://ipywidgets.readthedocs.io/en/stable/user_install.html\n",
      "  from .autonotebook import tqdm as notebook_tqdm\n",
      "Loading checkpoint shards: 100%|██████████| 59/59 [02:54<00:00,  2.96s/it]\n"
     ]
    }
   ],
   "source": [
    "\n",
    "from transformers import AutoModelForCausalLM\n",
    "from mistral_common.protocol.instruct.messages import (\n",
    "    AssistantMessage,\n",
    "    UserMessage,\n",
    ")\n",
    "from mistral_common.protocol.instruct.tool_calls import (\n",
    "    Tool,\n",
    "    Function,\n",
    ")\n",
    "from mistral_common.tokens.tokenizers.mistral import MistralTokenizer\n",
    "from mistral_common.tokens.instruct.normalize import ChatCompletionRequest\n",
    "\n",
    "\n",
    "model = AutoModelForCausalLM.from_pretrained(\"mistralai/Mixtral-8x22B-Instruct-v0.1\",device_map=\"auto\")\n",
    "\n",
    "tokenizer_v3 = MistralTokenizer.v3()\n"
   ]
  },
  {
   "cell_type": "code",
   "execution_count": 34,
   "metadata": {},
   "outputs": [
    {
     "name": "stderr",
     "output_type": "stream",
     "text": [
      "The attention mask and the pad token id were not set. As a consequence, you may observe unexpected behavior. Please pass your input's `attention_mask` to obtain reliable results.\n",
      "Setting `pad_token_id` to `eos_token_id`:2 for open-end generation.\n"
     ]
    },
    {
     "name": "stdout",
     "output_type": "stream",
     "text": [
      "['元気ですか?AIに元気という概念はありますか? はい、元気という概念がAIには存在すると考えられています。AIは人間の感情や状態を理解することができます。具体的に言うと、データから特徴量を抽出することで、人間の言動や表情、音声などから状態を推定しています。しかし、AIは感情や状態を人間と同様に体験することはできません。とても元気であるという状態は、AIにとっては特定のデータや状態として表現されます。']\n"
     ]
    }
   ],
   "source": [
    "import torch\n",
    "device=\"cuda\"\n",
    "mistral_query = ChatCompletionRequest(\n",
    "    messages=[\n",
    "        UserMessage(content=\"元気ですか?AIに元気という概念はありますか?\"),\n",
    "    ],\n",
    "    model=\"test\",\n",
    ")\n",
    "\n",
    "encodeds = tokenizer_v3.encode_chat_completion(mistral_query).tokens\n",
    "#encodeds = tokenizer_v3.encode_chat_completion(mistral_query).tokens\n",
    "encodeds = torch.tensor(encodeds).unsqueeze(0) \n",
    "model_inputs = encodeds.to(device)\n",
    "generated_ids = model.generate(model_inputs, max_new_tokens=500, do_sample=True)\n",
    "sp_tokenizer = tokenizer_v3.instruct_tokenizer.tokenizer\n",
    "decoded = sp_tokenizer.decode(generated_ids.tolist())\n",
    "print(decoded)"
   ]
  },
  {
   "cell_type": "code",
   "execution_count": null,
   "metadata": {},
   "outputs": [],
   "source": []
  }
 ],
 "metadata": {
  "kernelspec": {
   "display_name": "llmeval",
   "language": "python",
   "name": "python3"
  },
  "language_info": {
   "codemirror_mode": {
    "name": "ipython",
    "version": 3
   },
   "file_extension": ".py",
   "mimetype": "text/x-python",
   "name": "python",
   "nbconvert_exporter": "python",
   "pygments_lexer": "ipython3",
   "version": "3.11.8"
  }
 },
 "nbformat": 4,
 "nbformat_minor": 2
}
